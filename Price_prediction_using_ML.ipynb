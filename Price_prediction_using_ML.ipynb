{
 "cells": [
  {
   "cell_type": "markdown",
   "metadata": {},
   "source": [
    "This program uses artificial reccurent neural network called Long Short Term Memory (LSTM)\n",
    "to predict closing stock price of a chosen stock or crypto, using past 60 day price.\n",
    "Here, I'm using BTC-USD pair."
   ]
  },
  {
   "cell_type": "code",
   "execution_count": 22,
   "metadata": {},
   "outputs": [],
   "source": [
    "import math\n",
    "import pandas_datareader as web\n",
    "import numpy as np\n",
    "import pandas as pd\n",
    "from sklearn.preprocessing import MinMaxScaler\n",
    "from keras.models import Sequential\n",
    "from keras.layers import Dense, LSTM\n",
    "import matplotlib.pyplot as plt\n",
    "plt.style.use('fivethirtyeight')"
   ]
  },
  {
   "cell_type": "code",
   "execution_count": 23,
   "metadata": {},
   "outputs": [
    {
     "data": {
      "text/html": [
       "<div>\n",
       "<style scoped>\n",
       "    .dataframe tbody tr th:only-of-type {\n",
       "        vertical-align: middle;\n",
       "    }\n",
       "\n",
       "    .dataframe tbody tr th {\n",
       "        vertical-align: top;\n",
       "    }\n",
       "\n",
       "    .dataframe thead th {\n",
       "        text-align: right;\n",
       "    }\n",
       "</style>\n",
       "<table border=\"1\" class=\"dataframe\">\n",
       "  <thead>\n",
       "    <tr style=\"text-align: right;\">\n",
       "      <th></th>\n",
       "      <th>High</th>\n",
       "      <th>Low</th>\n",
       "      <th>Open</th>\n",
       "      <th>Close</th>\n",
       "      <th>Volume</th>\n",
       "      <th>Adj Close</th>\n",
       "    </tr>\n",
       "    <tr>\n",
       "      <th>Date</th>\n",
       "      <th></th>\n",
       "      <th></th>\n",
       "      <th></th>\n",
       "      <th></th>\n",
       "      <th></th>\n",
       "      <th></th>\n",
       "    </tr>\n",
       "  </thead>\n",
       "  <tbody>\n",
       "    <tr>\n",
       "      <th>2014-09-17</th>\n",
       "      <td>468.174011</td>\n",
       "      <td>452.421997</td>\n",
       "      <td>465.864014</td>\n",
       "      <td>457.334015</td>\n",
       "      <td>21056800</td>\n",
       "      <td>457.334015</td>\n",
       "    </tr>\n",
       "    <tr>\n",
       "      <th>2014-09-18</th>\n",
       "      <td>456.859985</td>\n",
       "      <td>413.104004</td>\n",
       "      <td>456.859985</td>\n",
       "      <td>424.440002</td>\n",
       "      <td>34483200</td>\n",
       "      <td>424.440002</td>\n",
       "    </tr>\n",
       "    <tr>\n",
       "      <th>2014-09-19</th>\n",
       "      <td>427.834991</td>\n",
       "      <td>384.532013</td>\n",
       "      <td>424.102997</td>\n",
       "      <td>394.795990</td>\n",
       "      <td>37919700</td>\n",
       "      <td>394.795990</td>\n",
       "    </tr>\n",
       "    <tr>\n",
       "      <th>2014-09-20</th>\n",
       "      <td>423.295990</td>\n",
       "      <td>389.882996</td>\n",
       "      <td>394.673004</td>\n",
       "      <td>408.903992</td>\n",
       "      <td>36863600</td>\n",
       "      <td>408.903992</td>\n",
       "    </tr>\n",
       "    <tr>\n",
       "      <th>2014-09-21</th>\n",
       "      <td>412.425995</td>\n",
       "      <td>393.181000</td>\n",
       "      <td>408.084991</td>\n",
       "      <td>398.821014</td>\n",
       "      <td>26580100</td>\n",
       "      <td>398.821014</td>\n",
       "    </tr>\n",
       "    <tr>\n",
       "      <th>...</th>\n",
       "      <td>...</td>\n",
       "      <td>...</td>\n",
       "      <td>...</td>\n",
       "      <td>...</td>\n",
       "      <td>...</td>\n",
       "      <td>...</td>\n",
       "    </tr>\n",
       "    <tr>\n",
       "      <th>2022-08-14</th>\n",
       "      <td>24974.914062</td>\n",
       "      <td>24206.259766</td>\n",
       "      <td>24429.056641</td>\n",
       "      <td>24319.333984</td>\n",
       "      <td>22994133555</td>\n",
       "      <td>24319.333984</td>\n",
       "    </tr>\n",
       "    <tr>\n",
       "      <th>2022-08-15</th>\n",
       "      <td>25135.589844</td>\n",
       "      <td>23839.775391</td>\n",
       "      <td>24318.316406</td>\n",
       "      <td>24136.972656</td>\n",
       "      <td>35123501685</td>\n",
       "      <td>24136.972656</td>\n",
       "    </tr>\n",
       "    <tr>\n",
       "      <th>2022-08-16</th>\n",
       "      <td>24228.416016</td>\n",
       "      <td>23733.500000</td>\n",
       "      <td>24126.136719</td>\n",
       "      <td>23883.291016</td>\n",
       "      <td>27753685646</td>\n",
       "      <td>23883.291016</td>\n",
       "    </tr>\n",
       "    <tr>\n",
       "      <th>2022-08-17</th>\n",
       "      <td>24407.058594</td>\n",
       "      <td>23243.353516</td>\n",
       "      <td>23881.316406</td>\n",
       "      <td>23335.998047</td>\n",
       "      <td>30931623076</td>\n",
       "      <td>23335.998047</td>\n",
       "    </tr>\n",
       "    <tr>\n",
       "      <th>2022-08-18</th>\n",
       "      <td>23563.832031</td>\n",
       "      <td>23177.601562</td>\n",
       "      <td>23341.039062</td>\n",
       "      <td>23212.738281</td>\n",
       "      <td>23747613147</td>\n",
       "      <td>23212.738281</td>\n",
       "    </tr>\n",
       "  </tbody>\n",
       "</table>\n",
       "<p>2893 rows × 6 columns</p>\n",
       "</div>"
      ],
      "text/plain": [
       "                    High           Low          Open         Close  \\\n",
       "Date                                                                 \n",
       "2014-09-17    468.174011    452.421997    465.864014    457.334015   \n",
       "2014-09-18    456.859985    413.104004    456.859985    424.440002   \n",
       "2014-09-19    427.834991    384.532013    424.102997    394.795990   \n",
       "2014-09-20    423.295990    389.882996    394.673004    408.903992   \n",
       "2014-09-21    412.425995    393.181000    408.084991    398.821014   \n",
       "...                  ...           ...           ...           ...   \n",
       "2022-08-14  24974.914062  24206.259766  24429.056641  24319.333984   \n",
       "2022-08-15  25135.589844  23839.775391  24318.316406  24136.972656   \n",
       "2022-08-16  24228.416016  23733.500000  24126.136719  23883.291016   \n",
       "2022-08-17  24407.058594  23243.353516  23881.316406  23335.998047   \n",
       "2022-08-18  23563.832031  23177.601562  23341.039062  23212.738281   \n",
       "\n",
       "                 Volume     Adj Close  \n",
       "Date                                   \n",
       "2014-09-17     21056800    457.334015  \n",
       "2014-09-18     34483200    424.440002  \n",
       "2014-09-19     37919700    394.795990  \n",
       "2014-09-20     36863600    408.903992  \n",
       "2014-09-21     26580100    398.821014  \n",
       "...                 ...           ...  \n",
       "2022-08-14  22994133555  24319.333984  \n",
       "2022-08-15  35123501685  24136.972656  \n",
       "2022-08-16  27753685646  23883.291016  \n",
       "2022-08-17  30931623076  23335.998047  \n",
       "2022-08-18  23747613147  23212.738281  \n",
       "\n",
       "[2893 rows x 6 columns]"
      ]
     },
     "execution_count": 23,
     "metadata": {},
     "output_type": "execute_result"
    }
   ],
   "source": [
    "#Get the quote\n",
    "df = web.DataReader('BTC-USD', data_source='yahoo', start='2012-01-01', end='2022-08-17')\n",
    "\n",
    "#Show data\n",
    "df"
   ]
  },
  {
   "cell_type": "code",
   "execution_count": 24,
   "metadata": {},
   "outputs": [
    {
     "data": {
      "text/plain": [
       "(2893, 6)"
      ]
     },
     "execution_count": 24,
     "metadata": {},
     "output_type": "execute_result"
    }
   ],
   "source": [
    "#Get the number of rows and columns in the dataset\n",
    "df.shape"
   ]
  },
  {
   "cell_type": "code",
   "execution_count": 25,
   "metadata": {},
   "outputs": [
    {
     "data": {
      "image/png": "[encoded data removed]",
      "text/plain": [
       "<Figure size 1152x576 with 1 Axes>"
      ]
     },
     "metadata": {},
     "output_type": "display_data"
    }
   ],
   "source": [
    "#Visualize the closing price history\n",
    "plt.figure(figsize=(16,8))\n",
    "plt.title('Close Price History')\n",
    "plt.plot(df['Close'])\n",
    "plt.xlabel('Date', fontsize=18)\n",
    "plt.ylabel('Close Price USD [$]', fontsize=18)\n",
    "plt.show()"
   ]
  },
  {
   "cell_type": "code",
   "execution_count": 26,
   "metadata": {},
   "outputs": [
    {
     "data": {
      "text/plain": [
       "2315"
      ]
     },
     "execution_count": 26,
     "metadata": {},
     "output_type": "execute_result"
    }
   ],
   "source": [
    "#Create a new dataframe with only the 'Close' column\n",
    "data = df.filter(['Close'])\n",
    "\n",
    "#Convert it to numpy array\n",
    "\n",
    "dataset = data.values\n",
    "\n",
    "#Get the number of rows to train the model on 80% of the data\n",
    "\n",
    "training_data_len = math.ceil (len(dataset) * 0.8)\n",
    "training_data_len"
   ]
  },
  {
   "cell_type": "code",
   "execution_count": 27,
   "metadata": {},
   "outputs": [
    {
     "data": {
      "text/plain": [
       "array([[0.00414359],\n",
       "       [0.00365546],\n",
       "       [0.00321557],\n",
       "       ...,\n",
       "       [0.35176787],\n",
       "       [0.34364643],\n",
       "       [0.34181735]])"
      ]
     },
     "execution_count": 27,
     "metadata": {},
     "output_type": "execute_result"
    }
   ],
   "source": [
    "#Scale the data\n",
    "scaler = MinMaxScaler(feature_range=(0,1))\n",
    "scaled_data = scaler.fit_transform(dataset)\n",
    "scaled_data"
   ]
  },
  {
   "cell_type": "code",
   "execution_count": 28,
   "metadata": {},
   "outputs": [
    {
     "name": "stdout",
     "output_type": "stream",
     "text": [
      "[array([0.00414359, 0.00365546, 0.00321557, 0.00342492, 0.0032753 ,\n",
      "       0.00332473, 0.0038239 , 0.00363714, 0.00346454, 0.00335845,\n",
      "       0.00328567, 0.00295417, 0.00292874, 0.00309905, 0.00304965,\n",
      "       0.00292288, 0.00269198, 0.00223721, 0.00211322, 0.00225521,\n",
      "       0.00234585, 0.00259445, 0.0027738 , 0.0027224 , 0.00273334,\n",
      "       0.00297447, 0.00315054, 0.0033057 , 0.00321523, 0.00303393,\n",
      "       0.00305177, 0.0031658 , 0.00313766, 0.00303822, 0.00309209,\n",
      "       0.00304287, 0.00267573, 0.00267466, 0.00251033, 0.00262063,\n",
      "       0.00259518, 0.00266387, 0.00233701, 0.00248116, 0.00237752,\n",
      "       0.00219096, 0.00219308, 0.00221774, 0.00226134, 0.00239481,\n",
      "       0.00254029, 0.00243827, 0.00248387, 0.00274766, 0.00280197,\n",
      "       0.00281341, 0.00364242, 0.00360048, 0.00326041, 0.00293862])]\n",
      "[0.0031129686946921404]\n",
      "\n",
      "[array([0.00414359, 0.00365546, 0.00321557, 0.00342492, 0.0032753 ,\n",
      "       0.00332473, 0.0038239 , 0.00363714, 0.00346454, 0.00335845,\n",
      "       0.00328567, 0.00295417, 0.00292874, 0.00309905, 0.00304965,\n",
      "       0.00292288, 0.00269198, 0.00223721, 0.00211322, 0.00225521,\n",
      "       0.00234585, 0.00259445, 0.0027738 , 0.0027224 , 0.00273334,\n",
      "       0.00297447, 0.00315054, 0.0033057 , 0.00321523, 0.00303393,\n",
      "       0.00305177, 0.0031658 , 0.00313766, 0.00303822, 0.00309209,\n",
      "       0.00304287, 0.00267573, 0.00267466, 0.00251033, 0.00262063,\n",
      "       0.00259518, 0.00266387, 0.00233701, 0.00248116, 0.00237752,\n",
      "       0.00219096, 0.00219308, 0.00221774, 0.00226134, 0.00239481,\n",
      "       0.00254029, 0.00243827, 0.00248387, 0.00274766, 0.00280197,\n",
      "       0.00281341, 0.00364242, 0.00360048, 0.00326041, 0.00293862]), array([0.00365546, 0.00321557, 0.00342492, 0.0032753 , 0.00332473,\n",
      "       0.0038239 , 0.00363714, 0.00346454, 0.00335845, 0.00328567,\n",
      "       0.00295417, 0.00292874, 0.00309905, 0.00304965, 0.00292288,\n",
      "       0.00269198, 0.00223721, 0.00211322, 0.00225521, 0.00234585,\n",
      "       0.00259445, 0.0027738 , 0.0027224 , 0.00273334, 0.00297447,\n",
      "       0.00315054, 0.0033057 , 0.00321523, 0.00303393, 0.00305177,\n",
      "       0.0031658 , 0.00313766, 0.00303822, 0.00309209, 0.00304287,\n",
      "       0.00267573, 0.00267466, 0.00251033, 0.00262063, 0.00259518,\n",
      "       0.00266387, 0.00233701, 0.00248116, 0.00237752, 0.00219096,\n",
      "       0.00219308, 0.00221774, 0.00226134, 0.00239481, 0.00254029,\n",
      "       0.00243827, 0.00248387, 0.00274766, 0.00280197, 0.00281341,\n",
      "       0.00364242, 0.00360048, 0.00326041, 0.00293862, 0.00311297])]\n",
      "[0.0031129686946921404, 0.0031059348915962078]\n",
      "\n"
     ]
    }
   ],
   "source": [
    "#Create the training dataset\n",
    "#Create the scaled training dataset, preserving all columns\n",
    "train_data = scaled_data[0:training_data_len, :]\n",
    "\n",
    "#Split the data into:\n",
    "# x_train - independent training features, and \n",
    "# y_train - deepened target variables\n",
    "\n",
    "x_train = []\n",
    "y_train = []\n",
    "\n",
    "for i in range(60, len(train_data)):\n",
    "    x_train.append(train_data[i-60:i, 0]) #60 values indexed from 0 to 59\n",
    "    y_train.append(train_data[i, 0])  #value that we want our model to predict\n",
    "    if i<= 61:\n",
    "        print(x_train)\n",
    "        print(y_train)\n",
    "        print()"
   ]
  },
  {
   "cell_type": "code",
   "execution_count": 29,
   "metadata": {},
   "outputs": [],
   "source": [
    "#Convert the x_train and y_train to numpy arrays\n",
    "x_train, y_train = np.array(x_train), np.array(y_train)"
   ]
  },
  {
   "cell_type": "code",
   "execution_count": 30,
   "metadata": {},
   "outputs": [
    {
     "data": {
      "text/plain": [
       "(2255, 60, 1)"
      ]
     },
     "execution_count": 30,
     "metadata": {},
     "output_type": "execute_result"
    }
   ],
   "source": [
    "#Reshape the data - LSTM expects the input to be 3D: number of samples, number of timesteps, number of features\n",
    "x_train = np.reshape(x_train, (x_train.shape[0], x_train.shape[1], 1))\n",
    "x_train.shape \n"
   ]
  },
  {
   "cell_type": "code",
   "execution_count": 31,
   "metadata": {},
   "outputs": [],
   "source": [
    "#Build the LSTM model\n",
    "#.add(LSTM <- adding a LSTM layer\n",
    "# 50 stands for number of neurons. \n",
    "# Return Sequences=true because we want to add another layer\n",
    "#Input shape = (time steps, outcomes to predict)\n",
    "model = Sequential()\n",
    "model.add(LSTM(50, return_sequences=True, input_shape=(x_train.shape[1], 1)))\n",
    "model.add(LSTM(50, return_sequences=False))\n",
    "model.add(Dense(25)) #densely connected layer with 25 neurons\n",
    "model.add(Dense(1))"
   ]
  },
  {
   "cell_type": "code",
   "execution_count": 32,
   "metadata": {},
   "outputs": [],
   "source": [
    "#Compile the model\n",
    "model.compile(optimizer='adam', loss='mean_squared_error')\n",
    "#loss function measures how well the model did in training\n",
    "#optimizer is used to improve upon the loss function"
   ]
  },
  {
   "cell_type": "code",
   "execution_count": 33,
   "metadata": {},
   "outputs": [
    {
     "name": "stdout",
     "output_type": "stream",
     "text": [
      "Epoch 1/5\n",
      "2255/2255 [==============================] - 35s 15ms/step - loss: 3.8875e-04\n",
      "Epoch 2/5\n",
      "2255/2255 [==============================] - 33s 15ms/step - loss: 2.0168e-04\n",
      "Epoch 3/5\n",
      "2255/2255 [==============================] - 33s 15ms/step - loss: 1.2442e-04\n",
      "Epoch 4/5\n",
      "2255/2255 [==============================] - 33s 15ms/step - loss: 2.2409e-04\n",
      "Epoch 5/5\n",
      "2255/2255 [==============================] - 33s 15ms/step - loss: 8.9873e-05\n"
     ]
    },
    {
     "data": {
      "text/plain": [
       "<keras.callbacks.History at 0x19e794e63b0>"
      ]
     },
     "execution_count": 33,
     "metadata": {},
     "output_type": "execute_result"
    }
   ],
   "source": [
    "#Train the model\n",
    "#batch_size is the total number of training examples present in a single batch\n",
    "#epochs is the total number of iterations where an entire dataset is passed forward and backwards the network\n",
    "model.fit(x_train, y_train, batch_size = 1, epochs=5)"
   ]
  },
  {
   "cell_type": "code",
   "execution_count": 34,
   "metadata": {},
   "outputs": [],
   "source": [
    "#Create the testing data set\n",
    "#Create a new array containing scaled values from\n",
    "test_data = scaled_data[training_data_len - 60: , :]\n",
    "\n",
    "#Create the data set x_text and y_test\n",
    "\n",
    "y_test = dataset[training_data_len:, :] #all of the values that we want our model to predict\n",
    "\n",
    "x_test = []\n",
    "for i in range(60, len(test_data)):\n",
    "    x_test.append(test_data[i-60:i, 0])\n",
    "\n"
   ]
  },
  {
   "cell_type": "code",
   "execution_count": 35,
   "metadata": {},
   "outputs": [],
   "source": [
    "#Convert to numpy array \n",
    "x_test = np.array(x_test)"
   ]
  },
  {
   "cell_type": "code",
   "execution_count": 36,
   "metadata": {},
   "outputs": [],
   "source": [
    "#Reshape the data to 3d again (LSTM expects this format)\n",
    "x_test = np.reshape(x_test, (x_test.shape[0], x_test.shape[1], 1))\n"
   ]
  },
  {
   "cell_type": "code",
   "execution_count": 37,
   "metadata": {},
   "outputs": [
    {
     "name": "stdout",
     "output_type": "stream",
     "text": [
      "19/19 [==============================] - 1s 10ms/step\n"
     ]
    }
   ],
   "source": [
    "#Get the model predicted price values for x_test dataset\n",
    "\n",
    "predictions = model.predict(x_test) #we want it to be exact same values that's in our y_test dataset contains\n",
    "predictions = scaler.inverse_transform(predictions)"
   ]
  },
  {
   "cell_type": "code",
   "execution_count": 38,
   "metadata": {},
   "outputs": [
    {
     "data": {
      "text/plain": [
       "1954.5394258130066"
      ]
     },
     "execution_count": 38,
     "metadata": {},
     "output_type": "execute_result"
    }
   ],
   "source": [
    "#Get root mean squared error (RMSE) (a good measure of how accurate the model is. lower values indicate a better fit)\n",
    "rmse=np.sqrt(np.mean(((predictions- y_test)**2)))\n",
    "rmse \n",
    "\n",
    "#0 means exact. as it happened (complete accuracy)\n",
    "#normally other methods should also be used to evaluate accuracy"
   ]
  },
  {
   "cell_type": "code",
   "execution_count": 39,
   "metadata": {},
   "outputs": [
    {
     "name": "stderr",
     "output_type": "stream",
     "text": [
      "C:\\Users\\Bruker\\AppData\\Local\\Temp\\ipykernel_15128\\3863983177.py:5: SettingWithCopyWarning: \n",
      "A value is trying to be set on a copy of a slice from a DataFrame.\n",
      "Try using .loc[row_indexer,col_indexer] = value instead\n",
      "\n",
      "See the caveats in the documentation: https://pandas.pydata.org/pandas-docs/stable/user_guide/indexing.html#returning-a-view-versus-a-copy\n",
      "  valid['Predictions'] = predictions\n"
     ]
    },
    {
     "data": {
      "image/png": "[encoded data removed]",
      "text/plain": [
       "<Figure size 1152x576 with 1 Axes>"
      ]
     },
     "metadata": {},
     "output_type": "display_data"
    }
   ],
   "source": [
    "#Plot the data\n",
    "train = data[:training_data_len]\n",
    "valid = data[training_data_len:]\n",
    "\n",
    "valid['Predictions'] = predictions\n",
    "\n",
    "#Visualize the data\n",
    "\n",
    "plt.figure(figsize=(16,8))\n",
    "plt.title('Model')\n",
    "plt.xlabel('Date', fontsize=18)\n",
    "plt.ylabel('Close Price USD [$]', fontsize=18)\n",
    "\n",
    "plt.plot(train['Close'])\n",
    "plt.plot(valid[['Close', 'Predictions']])\n",
    "plt.legend(['Train', 'Validation', 'Predictions'], loc='lower right')\n",
    "plt.show()"
   ]
  },
  {
   "cell_type": "code",
   "execution_count": 40,
   "metadata": {},
   "outputs": [
    {
     "data": {
      "text/html": [
       "<div>\n",
       "<style scoped>\n",
       "    .dataframe tbody tr th:only-of-type {\n",
       "        vertical-align: middle;\n",
       "    }\n",
       "\n",
       "    .dataframe tbody tr th {\n",
       "        vertical-align: top;\n",
       "    }\n",
       "\n",
       "    .dataframe thead th {\n",
       "        text-align: right;\n",
       "    }\n",
       "</style>\n",
       "<table border=\"1\" class=\"dataframe\">\n",
       "  <thead>\n",
       "    <tr style=\"text-align: right;\">\n",
       "      <th></th>\n",
       "      <th>Close</th>\n",
       "      <th>Predictions</th>\n",
       "    </tr>\n",
       "    <tr>\n",
       "      <th>Date</th>\n",
       "      <th></th>\n",
       "      <th></th>\n",
       "    </tr>\n",
       "  </thead>\n",
       "  <tbody>\n",
       "    <tr>\n",
       "      <th>2021-01-18</th>\n",
       "      <td>36630.074219</td>\n",
       "      <td>35730.375000</td>\n",
       "    </tr>\n",
       "    <tr>\n",
       "      <th>2021-01-19</th>\n",
       "      <td>36069.804688</td>\n",
       "      <td>36578.898438</td>\n",
       "    </tr>\n",
       "    <tr>\n",
       "      <th>2021-01-20</th>\n",
       "      <td>35547.750000</td>\n",
       "      <td>36023.285156</td>\n",
       "    </tr>\n",
       "    <tr>\n",
       "      <th>2021-01-21</th>\n",
       "      <td>30825.699219</td>\n",
       "      <td>35504.656250</td>\n",
       "    </tr>\n",
       "    <tr>\n",
       "      <th>2021-01-22</th>\n",
       "      <td>33005.761719</td>\n",
       "      <td>31053.287109</td>\n",
       "    </tr>\n",
       "    <tr>\n",
       "      <th>...</th>\n",
       "      <td>...</td>\n",
       "      <td>...</td>\n",
       "    </tr>\n",
       "    <tr>\n",
       "      <th>2022-08-14</th>\n",
       "      <td>24319.333984</td>\n",
       "      <td>23715.736328</td>\n",
       "    </tr>\n",
       "    <tr>\n",
       "      <th>2022-08-15</th>\n",
       "      <td>24136.972656</td>\n",
       "      <td>23636.792969</td>\n",
       "    </tr>\n",
       "    <tr>\n",
       "      <th>2022-08-16</th>\n",
       "      <td>23883.291016</td>\n",
       "      <td>23491.126953</td>\n",
       "    </tr>\n",
       "    <tr>\n",
       "      <th>2022-08-17</th>\n",
       "      <td>23335.998047</td>\n",
       "      <td>23283.177734</td>\n",
       "    </tr>\n",
       "    <tr>\n",
       "      <th>2022-08-18</th>\n",
       "      <td>23212.738281</td>\n",
       "      <td>22817.230469</td>\n",
       "    </tr>\n",
       "  </tbody>\n",
       "</table>\n",
       "<p>578 rows × 2 columns</p>\n",
       "</div>"
      ],
      "text/plain": [
       "                   Close   Predictions\n",
       "Date                                  \n",
       "2021-01-18  36630.074219  35730.375000\n",
       "2021-01-19  36069.804688  36578.898438\n",
       "2021-01-20  35547.750000  36023.285156\n",
       "2021-01-21  30825.699219  35504.656250\n",
       "2021-01-22  33005.761719  31053.287109\n",
       "...                  ...           ...\n",
       "2022-08-14  24319.333984  23715.736328\n",
       "2022-08-15  24136.972656  23636.792969\n",
       "2022-08-16  23883.291016  23491.126953\n",
       "2022-08-17  23335.998047  23283.177734\n",
       "2022-08-18  23212.738281  22817.230469\n",
       "\n",
       "[578 rows x 2 columns]"
      ]
     },
     "execution_count": 40,
     "metadata": {},
     "output_type": "execute_result"
    }
   ],
   "source": [
    "#Show the valid and predicted prices\n",
    "valid"
   ]
  },
  {
   "cell_type": "code",
   "execution_count": 41,
   "metadata": {},
   "outputs": [
    {
     "name": "stdout",
     "output_type": "stream",
     "text": [
      "1/1 [==============================] - 0s 17ms/step\n",
      "[[20711.744]]\n"
     ]
    }
   ],
   "source": [
    "#Try and predict the closing price for tommorow (18.08.22)\n",
    "#Get the Quote\n",
    "\n",
    "get_quote=web.DataReader('BTC-USD', data_source='yahoo', start='2012-01-01', end='2022-08-18')\n",
    "\n",
    "#Create a new dataframe\n",
    "\n",
    "new_df = get_quote.filter(['Close'])\n",
    "\n",
    "#Get the last 60 day closing values and conver the df to an array\n",
    "last_60_days = new_df[-60:].values\n",
    "\n",
    "#Scale the data to eb values between 0-1\n",
    "last_60_days_scaled = scaler.transform(last_60_days)\n",
    "\n",
    "#Create an empty list\n",
    "X_test = []\n",
    "\n",
    "#Append the past 60 days - scaled - to the list\n",
    "X_test.append(last_60_days_scaled)\n",
    "\n",
    "#Convert to np.array so we can use it in the model, reshape for same reason\n",
    "X_test = np.array(X_test)\n",
    "X_test = np.reshape(X_test, (X_test.shape[0], X_test.shape[1], 1))\n",
    "\n",
    "#Get the predicted scaled price\n",
    "pred_price = model.predict(X_test)\n",
    "\n",
    "#undo the scaling so we can read it\n",
    "pred_price = scaler.inverse_transform(pred_price)\n",
    "print(pred_price)"
   ]
  },
  {
   "cell_type": "code",
   "execution_count": 42,
   "metadata": {},
   "outputs": [
    {
     "name": "stdout",
     "output_type": "stream",
     "text": [
      "Date\n",
      "2022-08-17    23335.998047\n",
      "2022-08-18    23212.738281\n",
      "Name: Close, dtype: float64\n"
     ]
    }
   ],
   "source": [
    "#Get the Quote\n",
    "\n",
    "get_quote2 = web.DataReader('BTC-USD', data_source='yahoo', start='2022-08-17', end='2022-08-17')\n",
    "print(get_quote2['Close'])"
   ]
  }
 ],
 "metadata": {
  "kernelspec": {
   "display_name": "Python 3.10.4 64-bit",
   "language": "python",
   "name": "python3"
  },
  "language_info": {
   "codemirror_mode": {
    "name": "ipython",
    "version": 3
   },
   "file_extension": ".py",
   "mimetype": "text/x-python",
   "name": "python",
   "nbconvert_exporter": "python",
   "pygments_lexer": "ipython3",
   "version": "3.10.4"
  },
  "orig_nbformat": 4,
  "vscode": {
   "interpreter": {
    "hash": "f5cd677fd6b2a353cb04a2eb4959f00a6a0cbba86566e616ccfe11211d5db2fe"
   }
  }
 },
 "nbformat": 4,
 "nbformat_minor": 2
}
